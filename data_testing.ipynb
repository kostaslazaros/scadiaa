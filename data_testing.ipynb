{
 "cells": [
  {
   "cell_type": "code",
   "execution_count": 1,
   "id": "de3e12a4",
   "metadata": {},
   "outputs": [],
   "source": [
    "import scanpy as sc\n",
    "import hdf5plugin"
   ]
  },
  {
   "cell_type": "code",
   "execution_count": 2,
   "id": "ba1b9ff3",
   "metadata": {},
   "outputs": [],
   "source": [
    "anndata = sc.read_h5ad('A58d3c8988e89f8c.h5ad')"
   ]
  },
  {
   "cell_type": "code",
   "execution_count": 3,
   "id": "6da27992",
   "metadata": {},
   "outputs": [
    {
     "data": {
      "text/plain": [
       "AnnData object with n_obs × n_vars = 655 × 15147\n",
       "    obs: 'cell_type', 'species', 'state', 'brain_region', 'gender', 'age', 'data_id', 'batch'"
      ]
     },
     "execution_count": 3,
     "metadata": {},
     "output_type": "execute_result"
    }
   ],
   "source": [
    "anndata"
   ]
  },
  {
   "cell_type": "code",
   "execution_count": 6,
   "id": "d8208493",
   "metadata": {},
   "outputs": [
    {
     "data": {
      "text/plain": [
       "<655x15147 sparse matrix of type '<class 'numpy.float32'>'\n",
       "\twith 2590042 stored elements in Compressed Sparse Row format>"
      ]
     },
     "execution_count": 6,
     "metadata": {},
     "output_type": "execute_result"
    }
   ],
   "source": [
    "anndata.X"
   ]
  },
  {
   "cell_type": "code",
   "execution_count": null,
   "id": "58c85ec9",
   "metadata": {},
   "outputs": [],
   "source": []
  }
 ],
 "metadata": {
  "kernelspec": {
   "display_name": "Python 3 (ipykernel)",
   "language": "python",
   "name": "python3"
  },
  "language_info": {
   "codemirror_mode": {
    "name": "ipython",
    "version": 3
   },
   "file_extension": ".py",
   "mimetype": "text/x-python",
   "name": "python",
   "nbconvert_exporter": "python",
   "pygments_lexer": "ipython3",
   "version": "3.8.10"
  }
 },
 "nbformat": 4,
 "nbformat_minor": 5
}
